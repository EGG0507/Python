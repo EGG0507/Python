{
  "nbformat": 4,
  "nbformat_minor": 0,
  "metadata": {
    "colab": {
      "name": "Python0.ipynb",
      "provenance": [],
      "collapsed_sections": [],
      "authorship_tag": "ABX9TyNDIHPP2xpCRfy5MmLdPSGO",
      "include_colab_link": true
    },
    "kernelspec": {
      "name": "python3",
      "display_name": "Python 3"
    },
    "language_info": {
      "name": "python"
    }
  },
  "cells": [
    {
      "cell_type": "markdown",
      "metadata": {
        "id": "view-in-github",
        "colab_type": "text"
      },
      "source": [
        "<a href=\"https://colab.research.google.com/github/EGG0507/Python/blob/main/Python0.ipynb\" target=\"_parent\"><img src=\"https://colab.research.google.com/assets/colab-badge.svg\" alt=\"Open In Colab\"/></a>"
      ]
    },
    {
      "cell_type": "markdown",
      "source": [
        "#Python初體驗\n",
        "##第一章Tutorial\n",
        "###*Python練習"
      ],
      "metadata": {
        "id": "jiSGhsLcf8H-"
      }
    },
    {
      "cell_type": "code",
      "execution_count": null,
      "metadata": {
        "colab": {
          "base_uri": "https://localhost:8080/"
        },
        "id": "HYp_KljMc-_3",
        "outputId": "b8ecefdb-bc19-4aa1-c0d8-737a91d857d2"
      },
      "outputs": [
        {
          "output_type": "execute_result",
          "data": {
            "text/plain": [
              "8.0"
            ]
          },
          "metadata": {},
          "execution_count": 1
        }
      ],
      "source": [
        "a=5 #設定abc三個變數的值\n",
        "b=3\n",
        "h=2\n",
        "(a+b)*h/2 #這是一個運算式"
      ]
    },
    {
      "cell_type": "code",
      "source": [
        "import calendar  #輸入一個calendar 日曆\n",
        "print(calendar.month(2022,4)) #用print列印出calendar的月份"
      ],
      "metadata": {
        "colab": {
          "base_uri": "https://localhost:8080/"
        },
        "id": "8rO9Gdk8sEWf",
        "outputId": "adc8a51b-4986-4b41-b22c-8d23eb36532b"
      },
      "execution_count": null,
      "outputs": [
        {
          "output_type": "stream",
          "name": "stdout",
          "text": [
            "     April 2022\n",
            "Mo Tu We Th Fr Sa Su\n",
            "             1  2  3\n",
            " 4  5  6  7  8  9 10\n",
            "11 12 13 14 15 16 17\n",
            "18 19 20 21 22 23 24\n",
            "25 26 27 28 29 30\n",
            "\n"
          ]
        }
      ]
    },
    {
      "cell_type": "code",
      "source": [
        "print(calendar.calendar(2022)) #用print列印出calendar的2022整年月份"
      ],
      "metadata": {
        "colab": {
          "base_uri": "https://localhost:8080/"
        },
        "id": "h2rdOvDwcVJ-",
        "outputId": "70d153bd-95b0-43c4-9f28-16849aad4fd5"
      },
      "execution_count": null,
      "outputs": [
        {
          "output_type": "stream",
          "name": "stdout",
          "text": [
            "                                  2022\n",
            "\n",
            "      January                   February                   March\n",
            "Mo Tu We Th Fr Sa Su      Mo Tu We Th Fr Sa Su      Mo Tu We Th Fr Sa Su\n",
            "                1  2          1  2  3  4  5  6          1  2  3  4  5  6\n",
            " 3  4  5  6  7  8  9       7  8  9 10 11 12 13       7  8  9 10 11 12 13\n",
            "10 11 12 13 14 15 16      14 15 16 17 18 19 20      14 15 16 17 18 19 20\n",
            "17 18 19 20 21 22 23      21 22 23 24 25 26 27      21 22 23 24 25 26 27\n",
            "24 25 26 27 28 29 30      28                        28 29 30 31\n",
            "31\n",
            "\n",
            "       April                      May                       June\n",
            "Mo Tu We Th Fr Sa Su      Mo Tu We Th Fr Sa Su      Mo Tu We Th Fr Sa Su\n",
            "             1  2  3                         1             1  2  3  4  5\n",
            " 4  5  6  7  8  9 10       2  3  4  5  6  7  8       6  7  8  9 10 11 12\n",
            "11 12 13 14 15 16 17       9 10 11 12 13 14 15      13 14 15 16 17 18 19\n",
            "18 19 20 21 22 23 24      16 17 18 19 20 21 22      20 21 22 23 24 25 26\n",
            "25 26 27 28 29 30         23 24 25 26 27 28 29      27 28 29 30\n",
            "                          30 31\n",
            "\n",
            "        July                     August                  September\n",
            "Mo Tu We Th Fr Sa Su      Mo Tu We Th Fr Sa Su      Mo Tu We Th Fr Sa Su\n",
            "             1  2  3       1  2  3  4  5  6  7                1  2  3  4\n",
            " 4  5  6  7  8  9 10       8  9 10 11 12 13 14       5  6  7  8  9 10 11\n",
            "11 12 13 14 15 16 17      15 16 17 18 19 20 21      12 13 14 15 16 17 18\n",
            "18 19 20 21 22 23 24      22 23 24 25 26 27 28      19 20 21 22 23 24 25\n",
            "25 26 27 28 29 30 31      29 30 31                  26 27 28 29 30\n",
            "\n",
            "      October                   November                  December\n",
            "Mo Tu We Th Fr Sa Su      Mo Tu We Th Fr Sa Su      Mo Tu We Th Fr Sa Su\n",
            "                1  2          1  2  3  4  5  6                1  2  3  4\n",
            " 3  4  5  6  7  8  9       7  8  9 10 11 12 13       5  6  7  8  9 10 11\n",
            "10 11 12 13 14 15 16      14 15 16 17 18 19 20      12 13 14 15 16 17 18\n",
            "17 18 19 20 21 22 23      21 22 23 24 25 26 27      19 20 21 22 23 24 25\n",
            "24 25 26 27 28 29 30      28 29 30                  26 27 28 29 30 31\n",
            "31\n",
            "\n"
          ]
        }
      ]
    },
    {
      "cell_type": "code",
      "source": [
        "import requests #輸入一個requests\n",
        "a=requests.get(\"https://www.cwb.gov.tw/V8/C/W/week.html\") #用變數a等於requests去抓一個網址\n",
        "print(a.text) #列印變數a"
      ],
      "metadata": {
        "colab": {
          "base_uri": "https://localhost:8080/"
        },
        "id": "VA2tbqcoeQVX",
        "outputId": "3fb5e124-e731-4f86-f168-fe4365de9626"
      },
      "execution_count": null,
      "outputs": [
        {
          "output_type": "stream",
          "name": "stdout",
          "text": [
            "\n",
            "<!DOCTYPE html>\n",
            "<!--[if IE 8]> <html lang=\"zh-Hant-TW\" class=\"ie8\"> <![endif]-->\n",
            "<!--[if IE 9]> <html lang=\"zh-Hant-TW\" class=\"ie9\"> <![endif]-->\n",
            "<!--[if !IE]><!-->\n",
            "<html lang=\"zh-Hant-TW\">\n",
            "<!--<![endif]-->\n",
            "\n",
            "<head>\n",
            "  <title>1週預報 | 交通部中央氣象局</title>\n",
            "  <!-- Meta -->\n",
            "  <meta charset=\"utf-8\">\n",
            "  <meta name=\"viewport\" content=\"width=device-width, initial-scale=1.0\">\n",
            "  <meta name=\"description\" content=\"\">\n",
            "  <meta name=\"author\" content=\"\">\n",
            "  <!--Facebook_meta_begin-->\n",
            "  <!-- Facebook for W-->\r\n",
            "  <meta property=\"og:url\" content=\"https://www.cwb.gov.tw/V8/C/W/week.html\" />\r\n",
            "  <meta property=\"og:title\" content=\"天氣 -中央氣象局全球資訊網\" />\r\n",
            "  <meta property=\"og:image\" content=\"https://www.cwb.gov.tw/Data/fcst_img/cloud_weather.png\" />\r\n",
            "  <meta property=\"og:image\" content=\"https://www.cwb.gov.tw/Data/fcst_img/FI04.png\" />\r\n",
            "  <meta property=\"og:description\" content=\"氣象局提供精緻化預報及現代化氣象觀測, 縣市天氣預報, 鄉鎮天氣預報, 各類觀測資訊, 衛星雲圖,雷達迴波, 雨量累積, 閃電, 紫外線 ,..等。\" /><meta property=\"og:site_name\" content=\"中央氣象局全球資訊網\" />\n",
            "  <!--Facebook_meta_end-->\n",
            "  <!--tw.gov_meta_begin-->\n",
            "  <meta name=\"DC.Creator\" content=\"交通部中央氣象局\" />\n",
            "  <meta name=\"DC.Contributor\" content=\"交通部中央氣象局\" />\n",
            "  <meta name=\"DC.Type\" content=\"服務\" />\n",
            "  <meta name=\"DC.Format\" content=\"text\" />\n",
            "  <meta name=\"DC.Source\" content=\"交通部中央氣象局\" />\n",
            "  <meta name=\"DC.Language\" content=\"中文\" />\n",
            "  <meta name=\"DC.coverage.t.min\" content=\"2022-01-19\" />\n",
            "  <meta name=\"DC.coverage.t.max\" content=\"2027-01-19\" />\n",
            "  <meta name=\"DC.Publisher\" content=\"交通部中央氣象局\" />\n",
            "  <meta name=\"DC.Date\" content=\"2022-01-19 13:52\" />\n",
            "  <meta name=\"DC.Identifier\" content=\"315070000H\" />\n",
            "  <meta name=\"DC.Relation\" content=\"\" />\n",
            "  <meta name=\"DC.Rights\" content=\"交通部中央氣象局\" />\n",
            "  <meta name=\"Category.Theme\" content=\"650\" />\n",
            "  <meta name=\"Category.Cake\" content=\"CM0\" />\n",
            "  <meta name=\"Category.Service\" content=\"EZ0\" />\n",
            "  <meta name=\"DC.Title\" content=\"天氣 - 中央氣象局全球資訊網\" />\n",
            "  <meta name=\"DC.Subject\" content=\"天氣\" />\n",
            "  <meta name=\"DC.Description\" content=\"氣象局提供精緻化預報及現代化氣象觀測, 縣市天氣預報, 鄉鎮天氣預報, 各類觀測資訊, 衛星雲圖, 雷達圖, 雨量累積..等\" />\n",
            "  <meta name=\"Keywords\" content=\"天氣預報, 縣市預報, 鄉鎮預報, 氣象觀測, 衛星雲圖, 雷達回波, 雨量累積, 閃電, 紫外線\" />\n",
            "  <!--tw.gov_meta_end-->\n",
            "  <!-- =============== CSS Global Compulsory =============== -->\n",
            "  <!--common_css_begin-->\n",
            "  <meta http-equiv=\"X-UA-Compatible\" content=\"IE=edge\">\n",
            "  <meta name=\"application-name\" content=\"中央氣象局\">\n",
            "  <meta name=\"msapplication-TileImage\" content=\"/V8/assets/img/win10/cwbPinlogo.png\">\n",
            "  <meta name=\"msapplication-square70x70logo\" content=\"/V8/assets/img/win10/cwbPinlogo70.png\">\n",
            "  <meta name=\"msapplication-square150x150logo\" content=\"/V8/assets/img/win10/cwbPinlogo150.png\">\n",
            "  <meta name=\"msapplication-square310x310logo\" content=\"/V8/assets/img/win10/cwbPinlogo310.png\">\n",
            "  <link rel=\"shortcut icon\" href=\"/favicon.ico\">\n",
            "  <link rel=\"stylesheet\" href=\"/V8/assets/plugins/bootstrap/css/bootstrap.min.css?v=20191223\">\n",
            "  <link rel=\"stylesheet\" href=\"/V8/assets/plugins/font-awesome/css/font-awesome.min.css?v=20191223\">\n",
            "  <link rel=\"stylesheet\" href=\"/V8/assets/plugins/cwb-fonticon/style.css?v=20211025\">\n",
            "  <link rel=\"stylesheet\" href=\"/V8/assets/plugins/plugins.css?v=20191223\">\n",
            "  <link rel=\"stylesheet\" href=\"/V8/assets/css/main.css?v=20211025\">\n",
            "  <!--common_css_end-->\n",
            "  <style>\n",
            "    table tbody tr th {\n",
            "      border-bottom: 0.1em #4774b8 solid;\n",
            "    }\n",
            "\n",
            "    .city-weeek .panel-title .left {\n",
            "      width: 20%;\n",
            "    }\n",
            "\n",
            "    .city-weeek .panel-title .right {\n",
            "      width: 80%;\n",
            "    }\n",
            "\n",
            "    .sevenDaysReport table tbody .day th span.heading_3,\n",
            "    .sevenDaysReport table thead td .heading_3,\n",
            "    .sevenDaysReport table thead th .heading_3,\n",
            "    .tem-C.is-active {\n",
            "      word-break: keep-all;\n",
            "    }\n",
            "\n",
            "    .city-weeek .panel-default>.panel-heading>.panel-title>ul>.left a:after {\n",
            "      content: none;\n",
            "      padding-left: 1.2em;\n",
            "    }\n",
            "\n",
            "    .city-weeek .panel-default>.panel-heading>.panel-title>ul>.right a {\n",
            "      padding-left: 0.3em;\n",
            "    }\n",
            "\n",
            "    .city-weeek .panel-default>.panel-heading>.panel-title>ul>.left a:hover,\n",
            "    .city-weeek .panel-default>.panel-heading>.panel-title>ul>.right a:hover,\n",
            "    .city-weeek .panel-default>.panel-heading>.panel-title>ul>.left a:focus,\n",
            "    .city-weeek .panel-default>.panel-heading>.panel-title>ul>.right a:focus {\n",
            "      background-color: #0c6870;\n",
            "    }\n",
            "\n",
            "    .weather_info {\n",
            "      position: absolute;\n",
            "      top: -1.5em;\n",
            "      left: calc(2%);\n",
            "      border: 1px solid #1a67b1;\n",
            "      border-radius: 10px;\n",
            "      padding: 5px 8px;\n",
            "      color: #1a67b1;\n",
            "    }\n",
            "\n",
            "    #display {\n",
            "      display: none;\n",
            "    }\n",
            "\n",
            "    @media (max-width: 991px) {\n",
            "      .weather_info {\n",
            "        top: -2.2em;\n",
            "      }\n",
            "\n",
            "      #display {\n",
            "        display: inline;\n",
            "      }\n",
            "\n",
            "      #display2 {\n",
            "        display: none;\n",
            "      }\n",
            "\n",
            "      .tab-default {\n",
            "        border: none;\n",
            "      }\n",
            "    }\n",
            "\n",
            "    .tab-default .nav-tabs .active a,\n",
            "    .tab-default .nav>li>a:focus,\n",
            "    .tab-default .nav>li>a:hover {\n",
            "      background-color: #42a1ae;\n",
            "    }\n",
            "\n",
            "    .tab-default {\n",
            "      border-bottom-color: #42a1ae;\n",
            "    }\n",
            "\n",
            "    td[headers*=\"time\"] {\n",
            "      background-color: #42a1ae;\n",
            "      color: #fff;\n",
            "    }\n",
            "\n",
            "    .city-weeek .panel-body>ul>li.Night {\n",
            "      background-color: #fffcf5;\n",
            "    }\n",
            "\n",
            "    .day {\n",
            "      border-top: 1px solid #ddd;\n",
            "    }\n",
            "\n",
            "    .city-weeek .panel-default>.panel-heading>.panel-title a:after {\n",
            "      background-color: #98d0d8;\n",
            "      color: #fff;\n",
            "    }\n",
            "  </style>\n",
            "</head>\n",
            "\n",
            "<body>\n",
            "  <a class=\"focusable\" href=\"#center-content\" title=\"跳到主要內容區塊\" tabindex=\"1\">跳到主要內容區塊</a>\n",
            "  <noscript>\n",
            "    <h2>您的瀏覽器不支援JavaScript功能，若網頁功能無法正常使用時，請開啟瀏覽器JavaScript狀態。</h2>\n",
            "    <a href=\"/V8/C/sitemap.html\" target=\"_self\" title=\"可點此前往\" style=\"font-size:1.2rem;\">網站導覽</a>\n",
            "  </noscript>\n",
            "\n",
            "  <!--=== Header ===-->\n",
            "  <header class=\"header\" id=\"header\"></header>\n",
            "  <!--=== End Header ===-->\n",
            "  <!--=== Breadcrumbs ===-->\n",
            "  <div class=\"breadcrumbs\">\n",
            "    <div class=\"container\">\n",
            "      <a href=\"#center-content\" accesskey=\"C\" id=\"center-content\" class=\"acc\" title=\":::中間內容區導盲磚\">:::</a>\n",
            "      <ul class=\"pull-right breadcrumb breadcrumb-left\">\n",
            "        <li>\n",
            "          <a href=\"/V8/C/index.html\" aria-label=\"首頁\" target=\"_self\">\n",
            "            <i class=\"fa fa-home\" aria-hidden=\"true\" title=\"首頁\"></i>\n",
            "          </a>\n",
            "        </li>\n",
            "        <li>天氣</li>\n",
            "        <li>全臺概況預報</li>\n",
            "        <li>1週預報</li>\n",
            "      </ul>\n",
            "    </div>\n",
            "  </div>\n",
            "  <!--=== End Breadcrumbs ===-->\n",
            "  <div class=\"main-title-bar\">\n",
            "    <div class=\"container\">\n",
            "      <h2 class=\"main-title\">\n",
            "        <i class=\"icon-cwb-temperature\" aria-hidden=\"true\"></i>1週預報</h2>\n",
            "    </div>\n",
            "  </div>\n",
            "  <!--=== Content Part ===-->\n",
            "  <div class=\"wrapper\">\n",
            "    <main class=\"main-content container\">\n",
            "      <div class=\"row\">\n",
            "        <div class=\"col-md-12\">\n",
            "          <div class=\"weather_info\"><i class=\"icon-warn\" aria-hidden=\"true\"></i>點擊 <i id=\"display\"\n",
            "              class=\"fa fa-plus-square\" aria-hidden=\"true\"></i><span id=\"display2\">縣市名稱</span>進入詳細縣市預報</div>\n",
            "          <span id=\"fcst_time\" class=\"text-right datetime\"></span>\n",
            "          <!-- Tab v1 -->\n",
            "          <div class=\"tab-default\">\n",
            "            <!-- <div class=\"panel panel-default\">\n",
            "              <div class=\"panel-heading\">\n",
            "                <div class=\"hamburger hamburger--squeeze flip\" role=\"button\">\n",
            "                  <div class=\"hamburger-box\">\n",
            "                    <div class=\"hamburger-drop\"></div>\n",
            "                  </div>\n",
            "                </div>\n",
            "                <h3 class=\"panel-title\">\n",
            "                  <span id=\"date\">北部</span>\n",
            "                </h3>\n",
            "              </div>\n",
            "            </div> -->\n",
            "            <ul class=\"nav nav-tabs\" id=\"selectday2\">\n",
            "              <li class=\"active\">\n",
            "                <a href=\"#w-1\" title=\"顯示全臺\" data-toggle=\"tab\">全臺</a>\n",
            "              </li>\n",
            "              <li>\n",
            "                <a href=\"#w-2\" title=\"顯示北部\" data-toggle=\"tab\">北部</a>\n",
            "              </li>\n",
            "              <li>\n",
            "                <a href=\"#w-3\" title=\"顯示中部\" data-toggle=\"tab\">中部</a>\n",
            "              </li>\n",
            "              <li>\n",
            "                <a href=\"#w-4\" title=\"顯示南部\" data-toggle=\"tab\">南部</a>\n",
            "              </li>\n",
            "              <li>\n",
            "                <a href=\"#w-5\" title=\"顯示東部\" data-toggle=\"tab\">東部</a>\n",
            "              </li>\n",
            "              <li>\n",
            "                <a href=\"#w-6\" title=\"顯示外島\" data-toggle=\"tab\">外島</a>\n",
            "              </li>\n",
            "\n",
            "            </ul>\n",
            "          </div>\n",
            "          <div class=\"tab-content\" id=\"ContentTable2\">\n",
            "            <div class=\"tab-pane fade in active\" id=\"w-1\">\n",
            "            </div>\n",
            "            <div class=\"tab-pane fade\" id=\"w-2\">\n",
            "            </div>\n",
            "            <div class=\"tab-pane fade\" id=\"w-3\">\n",
            "            </div>\n",
            "            <div class=\"tab-pane fade\" id=\"w-4\">\n",
            "            </div>\n",
            "            <div class=\"tab-pane fade\" id=\"w-5\">\n",
            "            </div>\n",
            "            <div class=\"tab-pane fade\" id=\"w-6\">\n",
            "            </div>\n",
            "          </div>\n",
            "          <!-- End Tab v1 -->\n",
            "        </div>\n",
            "      </div>\n",
            "    </main>\n",
            "  </div>\n",
            "  <!--/wrapper-->\n",
            "  <!--/container-->\n",
            "  <!-- End Content Part -->\n",
            "  <!--=== Footer ===-->\n",
            "  <footer id=\"footer-v3\" class=\"footer-v3\">\n",
            "\n",
            "  </footer>\n",
            "  <!--=== End Footer ===-->\n",
            "  <!-- JS Weather Data -->\n",
            "  <script>\n",
            "    var VER = \"C\";\n",
            "    var unit = \"\";\n",
            "    //Array [Tab] key\n",
            "    var pageTitle = [\"#selectday li\", \"#selectday2 li\"];\n",
            "    var pageSubs = [\"#ContentTable\", \"#ContentTable2\"];\n",
            "    var pageIndex = [0, 0];\n",
            "  </script>\n",
            "  <script src=\"/Data/js/fcst/W01_Data.js?\"></script>\n",
            "  <script src=\"/Data/js/fcst/W11WD_Data.js?\"></script>\n",
            "  <script src=\"/Data/js/fcst/W50_Data.js?\"></script>\n",
            "  <script src=\"/Data/js/fcst/W51_Data.js?\"></script>\n",
            "  <!-- JS Global Compulsory -->\n",
            "  <!--common_js_begin-->\n",
            "  <script src=\"/Data/js/warn/Warning_Content.js?\"></script>\n",
            "  <script src=\"/Data/js/info/Info_Warning.js?v=20200824\"></script>\n",
            "  <script src=\"/Data/js/info/Info_County.js?v=20200415\"></script>\n",
            "  <script src=\"/Data/js/info/Info_Town.js?v=20200817\"></script>\n",
            "  <script src=\"/V8/assets/plugins/jquery/jquery-2.2.4.min.js\"></script>\n",
            "  <script src=\"/V8/assets/plugins/jquery/jquery-migrate.min.js\"></script>\n",
            "  <script src=\"/V8/assets/plugins/jquery-ui/jquery-ui.min.js\"></script>\n",
            "  <script src=\"/V8/assets/plugins/bootstrap/js/bootstrap.min.js\"></script>\n",
            "  <script src=\"/V8/assets/plugins/back-to-top.js\"></script>\n",
            "  <script src=\"/V8/assets/plugins/smoothScroll.js\"></script>\n",
            "  <script src=\"/V8/assets/js/cookie_lib.js?v=20201217\"></script>\n",
            "  <script src=\"/V8/assets/js/function-global.js?v=20210302\"></script>\n",
            "  <script src=\"/V8/assets/js/app.js\"></script>\n",
            "  <!-- Global site tag (gtag.js) - Google Analytics -->\n",
            "  <script async src=\"https://www.googletagmanager.com/gtag/js?id=UA-126485471-1\"></script>\n",
            "  <script>\n",
            "    window.dataLayer = window.dataLayer || [];\n",
            "    function gtag(){dataLayer.push(arguments);}\n",
            "    gtag('js', new Date());\n",
            "    gtag('config', 'UA-126485471-1');\n",
            "  </script>\n",
            "  <!--common_js_end-->\n",
            "  <!-- JS Customization -->\n",
            "  <script src=\"/V8/assets/js/map/function-weather.js\"></script>\n",
            "  <!-- <script type=\"text/javascript\" src=\"/V8/assets/js/function-table.js\"></script> -->\n",
            "  <script src=\"/V8/assets/js/function-tabs.js\"></script>\n",
            "  <script src=\"/V8/assets/plugins/freezeheader.js\"></script>\n",
            "  <script src=\"/V8/assets/js/function-tab-jump.js\"></script>\n",
            "  <script src=\"/V8/assets/js/GetDataTime.js?\"></script>\n",
            "  <!--\tindividual HTML\t-->\n",
            "  <script>\n",
            "    //===========wf7dayNC\tDATA\t\t===========\n",
            "    var DataTime=GetDataTime(\"M\");\n",
            "    window.onload=function(){\n",
            "      var MOD_FILE = [\n",
            "        \"/V8/C/W/County/MOD/wf7dayNC_NCSEI/ALL_Week.html?t=\"+DataTime,\n",
            "        \"/V8/C/W/County/MOD/wf7dayNC_NCSEI/N_Week.html?t=\"+DataTime,\n",
            "        \"/V8/C/W/County/MOD/wf7dayNC_NCSEI/C_Week.html?t=\"+DataTime,\n",
            "        \"/V8/C/W/County/MOD/wf7dayNC_NCSEI/S_Week.html?t=\"+DataTime,\n",
            "        \"/V8/C/W/County/MOD/wf7dayNC_NCSEI/E_Week.html?t=\"+DataTime,\n",
            "        \"/V8/C/W/County/MOD/wf7dayNC_NCSEI/I_Week.html?t=\"+DataTime\n",
            "      ];\n",
            "      var flag = [true, true, true, true, true, true];//紀錄[北,中,南,東,外島]的MOD有無被讀取過，讀取過不再重複讀取\n",
            "      var index = \"0\";\n",
            "      \n",
            "      $('#selectday2 > li').click(function () {\n",
            "        index = $(this).index();\n",
            "        if (flag[index]) {//判斷[北,中,南,東,外島]的MOD有無被讀取過，讀取過不再重複讀取\n",
            "          GetMOD();\n",
            "          flag[index] = false;\n",
            "        }\n",
            "      })\n",
            "      \n",
            "      $('#selectday2 > li:eq(0)').trigger('click');\n",
            "      \n",
            "      function GetMOD() {\n",
            "        var ID = index + 1;//特別處理ID的問題\n",
            "      \n",
            "        $.get(MOD_FILE[index], '', function (data) {\n",
            "          $(\"#w-\" + ID).html(data);\n",
            "          console.log('Get ' + MOD_FILE[index] + ' Success');\n",
            "          $(\"#table\" + ID).freezeHeader();\n",
            "          CtoF();\n",
            "        }).fail(function () {\n",
            "          console.log('Get ' + MOD_FILE[index] + ' Failed!');\n",
            "        });\n",
            "      }\n",
            "    };\n",
            "    //===========wf7dayNC\tDATA\tEND\t\t===========\n",
            "    //===========CtoF temp change\t===========\n",
            "    $(document).ready(function () {\n",
            "      $('#checkbox-1').click(function () {\n",
            "        CtoF();\n",
            "      });\n",
            "\n",
            "      $('#checkbox-1_sm').click(function () {\n",
            "        CtoF();\n",
            "      });\n",
            "    });\n",
            "\n",
            "    function CtoF() {\n",
            "      var temp = getTempUnit();\n",
            "      if (temp == \"F\") {\n",
            "        $(\".tem-F\").removeClass('is-hidden').addClass('is-active');\n",
            "        $(\".tem-C\").removeClass('is-active').addClass('is-hidden');\n",
            "      } else {\n",
            "        $(\".tem-C\").removeClass('is-hidden').addClass('is-active');\n",
            "        $(\".tem-F\").removeClass('is-active').addClass('is-hidden');\n",
            "      }\n",
            "    }\n",
            "    //===========CtoF temp change END\t=======\n",
            "    //===========Issued TIME     =======\n",
            "    var FILE=\"/Data/js/fcst/week_TIME.js?t=\"+DataTime;\n",
            "    $.get(FILE, '', function(data) {\n",
            "      $(\"#fcst_time\").html(\"有效時間:\"+TIME[\"From_Time\"]+\"~\"+TIME[\"To_Time\"]);\n",
            "      console.log( 'Get '+FILE+' Success' );\n",
            "    }).fail(function(){\n",
            "      console.log( 'Get '+FILE+' Failed!' );\n",
            "    });\n",
            "    //===========Issued TIME END =======\n",
            "  </script>\n",
            "\n",
            "  <!--\tindividual HTML\tEND\t-->\n",
            "  <!-- <script type=\"text/javascript\">\n",
            "    手機版表格切換欄位數\n",
            "    var interval = [3, 3, 3, 3];\n",
            "  </script> -->\n",
            "  <script>\n",
            "    jQuery(document).ready(function () {\n",
            "      App.init();\n",
            "    });\n",
            "  </script>\n",
            "  <!--[if lt IE 9]>\n",
            "    <script src=\"/V8/assets/plugins/IE/respond.js\"></script>\n",
            "    <script src=\"/V8/assets/plugins/IE/html5shiv.js\"></script>\n",
            "    <script src=\"/V8/assets/plugins/IE/placeholder-IE-fixes.js\"></script>\n",
            "    <![endif]-->\n",
            "</body>\n",
            "\n",
            "</html>\n"
          ]
        }
      ]
    },
    {
      "cell_type": "code",
      "source": [
        "import matplotlib.pyplot as plt #輸入一個matplotlib\n",
        "x=[1,2,3] #設變數xy並且給它數值\n",
        "y=[4,5,6]\n",
        "plt.bar(x,y) #讓xy帶入plt.bar的方法\n",
        "plt.show #秀出來"
      ],
      "metadata": {
        "colab": {
          "base_uri": "https://localhost:8080/",
          "height": 282
        },
        "id": "A8-CW2FOhRYZ",
        "outputId": "b89eef04-247f-49f8-9b06-094690b1dc73"
      },
      "execution_count": null,
      "outputs": [
        {
          "output_type": "execute_result",
          "data": {
            "text/plain": [
              "<function matplotlib.pyplot.show>"
            ]
          },
          "metadata": {},
          "execution_count": 6
        },
        {
          "output_type": "display_data",
          "data": {
            "image/png": "[encoded data removed]",
            "text/plain": [
              "<Figure size 432x288 with 1 Axes>"
            ]
          },
          "metadata": {
            "needs_background": "light"
          }
        }
      ]
    },
    {
      "cell_type": "code",
      "source": [
        "plt.pie(x, labels=y) #同上只是差別在長條圖跟圓餅圖\n",
        "plt.show #秀出來"
      ],
      "metadata": {
        "colab": {
          "base_uri": "https://localhost:8080/",
          "height": 265
        },
        "id": "rTbDhS9iiohV",
        "outputId": "b2159494-86ef-4089-fc2e-ebd4c8b5e89f"
      },
      "execution_count": null,
      "outputs": [
        {
          "output_type": "execute_result",
          "data": {
            "text/plain": [
              "<function matplotlib.pyplot.show>"
            ]
          },
          "metadata": {},
          "execution_count": 7
        },
        {
          "output_type": "display_data",
          "data": {
            "image/png": "[encoded data removed]",
            "text/plain": [
              "<Figure size 432x288 with 1 Axes>"
            ]
          },
          "metadata": {}
        }
      ]
    },
    {
      "cell_type": "code",
      "source": [
        "#單行註解\n",
        "a=5 #單行註解\n",
        "b=3 #設變數ab給它一個值\n",
        "print(a*b) #列印出a*b"
      ],
      "metadata": {
        "id": "G5CxKSBIpj1d",
        "colab": {
          "base_uri": "https://localhost:8080/"
        },
        "outputId": "fdf02de6-7ab7-4991-953c-7f1e6fa118f0"
      },
      "execution_count": null,
      "outputs": [
        {
          "output_type": "stream",
          "name": "stdout",
          "text": [
            "15\n"
          ]
        }
      ]
    },
    {
      "cell_type": "code",
      "source": [
        "'''\n",
        "多行註解\n",
        "多行註解\n",
        "\n",
        "'''\n",
        "a=5 #設變數ab給它一個值\n",
        "b=3\n",
        "print(a*b) #列印出a*b\n"
      ],
      "metadata": {
        "id": "DNMntH1qpsmV",
        "colab": {
          "base_uri": "https://localhost:8080/"
        },
        "outputId": "b49162cf-7ae0-49e3-a135-ac4359b712e6"
      },
      "execution_count": null,
      "outputs": [
        {
          "output_type": "stream",
          "name": "stdout",
          "text": [
            "15\n"
          ]
        }
      ]
    },
    {
      "cell_type": "code",
      "source": [
        "#透過第三變數做交換\n",
        "x=1   #設變數xy並給它一個值\n",
        "y=10\n",
        "z=x   #利用z去交換值\n",
        "x=y\n",
        "y=z\n",
        "print(x) #print列印出結果\n",
        "print(y) #print列印出結果"
      ],
      "metadata": {
        "colab": {
          "base_uri": "https://localhost:8080/"
        },
        "id": "kIMlMIyBsXP_",
        "outputId": "5289a663-5dc3-4860-bb36-83b31153956f"
      },
      "execution_count": null,
      "outputs": [
        {
          "output_type": "stream",
          "name": "stdout",
          "text": [
            "10\n",
            "1\n"
          ]
        }
      ]
    },
    {
      "cell_type": "code",
      "source": [
        "#不透過第三變數做交換\n",
        "x=1 \n",
        "y=10 #設變數xy並給它一個值\n",
        "x=x+y\n",
        "y=x-y #利用加減做交換\n",
        "x=x-y\n",
        "print(x,y) #print列印出結果"
      ],
      "metadata": {
        "colab": {
          "base_uri": "https://localhost:8080/"
        },
        "id": "qUD3c2QjtsBe",
        "outputId": "934e4c76-43c9-4469-c200-9ef858ac3681"
      },
      "execution_count": null,
      "outputs": [
        {
          "output_type": "stream",
          "name": "stdout",
          "text": [
            "10 1\n"
          ]
        }
      ]
    },
    {
      "cell_type": "code",
      "source": [
        "#Python版本的變數交換\n",
        "x=1 #設變數xy並給它一個值\n",
        "y=10\n",
        "x,y=y,x #直接交換 \n",
        "print(x,y) #print列印出結果"
      ],
      "metadata": {
        "colab": {
          "base_uri": "https://localhost:8080/"
        },
        "id": "ZNk-9WHNvAeW",
        "outputId": "cce845d6-23f3-4ea9-9e8c-87fb236c4d36"
      },
      "execution_count": null,
      "outputs": [
        {
          "output_type": "stream",
          "name": "stdout",
          "text": [
            "10 1\n"
          ]
        }
      ]
    },
    {
      "cell_type": "code",
      "source": [
        "#變數的平行設定\n",
        "x,y,z=1,10,100 #設變數xyz並給它一個值且平行的\n",
        "print(x,y,z) #print列印出結果"
      ],
      "metadata": {
        "colab": {
          "base_uri": "https://localhost:8080/"
        },
        "id": "eUdVtvAbvbQm",
        "outputId": "fd51e5a5-d00a-4e8d-949a-8ac8260ba2e5"
      },
      "execution_count": null,
      "outputs": [
        {
          "output_type": "stream",
          "name": "stdout",
          "text": [
            "1 10 100\n"
          ]
        }
      ]
    },
    {
      "cell_type": "code",
      "source": [
        "x,y,z=3,4,5 #設變數xyz並給它一個值\n",
        "x+=1  #x=x+1\n",
        "y*=2  #y=y*2\n",
        "z**=3  #z=z**3\n",
        "print(x,y,z) #print列印出結果"
      ],
      "metadata": {
        "colab": {
          "base_uri": "https://localhost:8080/"
        },
        "id": "5rQYFpZKew8i",
        "outputId": "702910b7-69fa-4642-9797-54a9f25a9026"
      },
      "execution_count": null,
      "outputs": [
        {
          "output_type": "stream",
          "name": "stdout",
          "text": [
            "4 8 125\n"
          ]
        }
      ]
    },
    {
      "cell_type": "markdown",
      "source": [
        "變數的應用\n",
        "\n",
        "Q:半徑為10的圓形，其面積大小為何? "
      ],
      "metadata": {
        "id": "K92vcSqgiK7w"
      }
    },
    {
      "cell_type": "code",
      "source": [
        "import math #輸入一個math\n",
        "r=10 #設變數r等於10\n",
        "print(r*r*math.pi) #print列印出結果"
      ],
      "metadata": {
        "colab": {
          "base_uri": "https://localhost:8080/"
        },
        "id": "i7vTNfNZiJth",
        "outputId": "c755c3f6-b15f-4311-a96d-0b85f8d7efea"
      },
      "execution_count": null,
      "outputs": [
        {
          "output_type": "stream",
          "name": "stdout",
          "text": [
            "314.1592653589793\n"
          ]
        }
      ]
    },
    {
      "cell_type": "code",
      "source": [
        "import math #輸入一個math\n",
        "r=eval(input(\"請輸入員的半徑:\")) #eval()將字串轉化成數值運算\n",
        "print(r*r*math.pi) #print列印出結果"
      ],
      "metadata": {
        "colab": {
          "base_uri": "https://localhost:8080/"
        },
        "id": "tsIveVCCkX19",
        "outputId": "1b231e24-7983-4232-a66b-503879de28e3"
      },
      "execution_count": null,
      "outputs": [
        {
          "output_type": "stream",
          "name": "stdout",
          "text": [
            "請輸入員的半徑:5\n",
            "78.53981633974483\n"
          ]
        }
      ]
    },
    {
      "cell_type": "markdown",
      "source": [
        "資料型別\n",
        "\n",
        "python屬於動態類型變數，使用前不需要宣告資料型態"
      ],
      "metadata": {
        "id": "_Nmk1hOfq7uK"
      }
    },
    {
      "cell_type": "code",
      "source": [
        "x=256   #設一個變數x等於256\n",
        "y=256.0   #設一個變數y等於256.0\n",
        "z=\"write\"   #設一個變數等於\"write\"\n",
        "print(type(x)) #print列印出結果\n",
        "print(type(y)) #print列印出結果\n",
        "print(type(z)) #print列印出結果\n",
        "print(type(x==y)) #print列印出結果"
      ],
      "metadata": {
        "colab": {
          "base_uri": "https://localhost:8080/"
        },
        "id": "8rTZn8UrqtuK",
        "outputId": "c455a2f4-2708-4ad6-b8e4-e4e5d1b0ef34"
      },
      "execution_count": null,
      "outputs": [
        {
          "output_type": "stream",
          "name": "stdout",
          "text": [
            "<class 'int'>\n",
            "<class 'float'>\n",
            "<class 'str'>\n",
            "<class 'bool'>\n"
          ]
        }
      ]
    },
    {
      "cell_type": "markdown",
      "source": [
        "算術符號"
      ],
      "metadata": {
        "id": "KS6tJ2ops4Ap"
      }
    },
    {
      "cell_type": "code",
      "source": [
        "x=10 #設變數xy並給它一個值\n",
        "y=3\n",
        "print(x/y) #除法 #print列印出結果\n",
        "print(x//y) #取商 #print列印出結果\n",
        "print(x%y)  #取餘數 #print列印出結果"
      ],
      "metadata": {
        "colab": {
          "base_uri": "https://localhost:8080/"
        },
        "id": "0mKo6Ka-s5vg",
        "outputId": "5cfc6004-8d6a-4bd1-e89b-a07ada8bcad3"
      },
      "execution_count": null,
      "outputs": [
        {
          "output_type": "stream",
          "name": "stdout",
          "text": [
            "3.3333333333333335\n",
            "3\n",
            "1\n"
          ]
        }
      ]
    },
    {
      "cell_type": "markdown",
      "source": [
        "算術符號的順序"
      ],
      "metadata": {
        "id": "5ZT1awUhuuye"
      }
    },
    {
      "cell_type": "code",
      "source": [
        "\n",
        "x=(5*(1+2)**2-3+4/2) #設一個變數x等於運算式\n",
        "print(x) #print列印出結果"
      ],
      "metadata": {
        "colab": {
          "base_uri": "https://localhost:8080/"
        },
        "id": "5ANROmgXus8n",
        "outputId": "5d452e50-4ae0-4c21-fcdf-c56442190622"
      },
      "execution_count": null,
      "outputs": [
        {
          "output_type": "stream",
          "name": "stdout",
          "text": [
            "44.0\n"
          ]
        }
      ]
    },
    {
      "cell_type": "code",
      "source": [
        "x=\"must\" #設變數x成於\"must\"\n",
        "print(type(x)) #print列印出結果\n",
        "y=10 #設變數y等於10\n",
        "print(type(y)) #print列印出結果\n",
        "print(10*y) #print列印出結果\n",
        "print(10*x) #print列印出結果\n",
        "z=\"10\" #設變數z等於\"10\"\n",
        "print(10*z) #print列印出結果\n",
        "print(10*int(z)) #print列印出結果\n",
        "print(10*float(z)) #print列印出結果\n",
        "print(10*str(y)) #print列印出結果\n",
        "print(10*eval(\"5*2\")) #print列印出結果"
      ],
      "metadata": {
        "colab": {
          "base_uri": "https://localhost:8080/"
        },
        "id": "meycjjQ5j12Z",
        "outputId": "b11c48eb-f76f-4403-91d4-d37b6a6b4130"
      },
      "execution_count": null,
      "outputs": [
        {
          "output_type": "stream",
          "name": "stdout",
          "text": [
            "<class 'str'>\n",
            "<class 'int'>\n",
            "100\n",
            "mustmustmustmustmustmustmustmustmustmust\n",
            "10101010101010101010\n",
            "100\n",
            "100.0\n",
            "10101010101010101010\n",
            "100\n"
          ]
        }
      ]
    },
    {
      "cell_type": "markdown",
      "source": [
        "#Print的三種方式\n",
        "\n",
        "*透過，區隔要列印的變數eg;print(\"This\",\"is\",\"a\",\"book\")\n",
        "\n",
        "*利用字串的str.format()(新式)\n",
        "\n",
        "*%格式化輸出字符串(舊式)"
      ],
      "metadata": {
        "id": "YPZfc67jyNXK"
      }
    },
    {
      "cell_type": "code",
      "source": [
        "a=\"This\"+\"is\"+\"a\"+\"book\" #設變數a等於\"This\"+\"is\"+\"a\"+\"book\"\n",
        "print(a) #print列印出結果\n",
        "#Thisisabook\n",
        "print(\"This\",\"is\",\"a\",\"book\") #print列印出結果\n",
        "#This is a book"
      ],
      "metadata": {
        "colab": {
          "base_uri": "https://localhost:8080/"
        },
        "id": "pDmRVmaxnq65",
        "outputId": "c1a636ea-e7ca-4be2-b38f-b20b75f34847"
      },
      "execution_count": null,
      "outputs": [
        {
          "output_type": "stream",
          "name": "stdout",
          "text": [
            "Thisisabook\n",
            "This is a book\n"
          ]
        }
      ]
    },
    {
      "cell_type": "markdown",
      "source": [
        "##Chap2 流程控制\n",
        "if else , elif"
      ],
      "metadata": {
        "id": "fjnfJTnztkNW"
      }
    },
    {
      "cell_type": "code",
      "source": [
        "a=3 #設變數ab並給它一個值\n",
        "b=4\n",
        "if a <= b: #如果a<=b做下面\n",
        "    print(\"b是比較大的數字\") #print列印出結果\n",
        "else: #反之做下面\n",
        "    print(\"a是比較大的數字\") #print列印出結果"
      ],
      "metadata": {
        "colab": {
          "base_uri": "https://localhost:8080/"
        },
        "id": "NPGO0VYotZ9v",
        "outputId": "3770a975-0324-432b-ca08-0a58db2e151a"
      },
      "execution_count": null,
      "outputs": [
        {
          "output_type": "stream",
          "name": "stdout",
          "text": [
            "b是比較大的數字\n"
          ]
        }
      ]
    },
    {
      "cell_type": "markdown",
      "source": [
        "#成績評鑑"
      ],
      "metadata": {
        "id": "ljDOH_F4xien"
      }
    },
    {
      "cell_type": "code",
      "source": [
        "grade=87 #設一個變數grade等於87\n",
        "print(\"成績評鑑：\") #print列印出結果\n",
        "if grade >= 90:          #如果grade>=90做下面\n",
        "    print(\"優等\")#print列印出結果\n",
        "elif grade >=80:          #反之grade>=80做下面\n",
        "    print(\"甲等\")#print列印出結果\n",
        "elif grade >=70:          #反之grade>=70做下面\n",
        "    print(\"乙等\")#print列印出結果         \n",
        "elif grade >=60:          #反之grade>=60做下面\n",
        "    print(\"丙等\")#print列印出結果\n",
        "else:                #反之做下面\n",
        "    print(\"不及格\")#print列印出結果"
      ],
      "metadata": {
        "colab": {
          "base_uri": "https://localhost:8080/"
        },
        "id": "0kmY6lFStsH7",
        "outputId": "af19c76b-a660-4d52-fd8b-7a3c65d2e8ff"
      },
      "execution_count": null,
      "outputs": [
        {
          "output_type": "stream",
          "name": "stdout",
          "text": [
            "成績評鑑：\n",
            "甲等\n"
          ]
        }
      ]
    },
    {
      "cell_type": "markdown",
      "source": [
        "#for 迴圈"
      ],
      "metadata": {
        "id": "PbqaBCs98_FM"
      }
    },
    {
      "cell_type": "code",
      "source": [
        "#1+2+3...+10總和\n",
        "sum = 0 #設變數sum等於0\n",
        "for count in range(1, 11, 1): #從1開始，間隔1, 不包含11\n",
        "    sum += count\n",
        "print(\"1+2+3+...+10 =\", sum) #print列印出結果"
      ],
      "metadata": {
        "colab": {
          "base_uri": "https://localhost:8080/"
        },
        "id": "OKmIpqPg8-jL",
        "outputId": "93519bae-b0a4-475d-f0c1-302892f06fb1"
      },
      "execution_count": null,
      "outputs": [
        {
          "output_type": "stream",
          "name": "stdout",
          "text": [
            "1+2+3+...+10 = 55\n"
          ]
        }
      ]
    },
    {
      "cell_type": "code",
      "source": [
        "#range另外一種寫法\n",
        "#1+2+3...+10總和\n",
        "sum = 0 #設變數sum等於0\n",
        "for count in range(11): #1-10, 不包含11\n",
        "    sum += count\n",
        "print(\"1+2+3+...+10 =\", sum) #print列印出結果"
      ],
      "metadata": {
        "colab": {
          "base_uri": "https://localhost:8080/"
        },
        "id": "U8vHDUZ09Ebf",
        "outputId": "795735fc-4612-44c0-a5f2-c7e470b6f08e"
      },
      "execution_count": null,
      "outputs": [
        {
          "output_type": "stream",
          "name": "stdout",
          "text": [
            "1+2+3+...+10 = 55\n"
          ]
        }
      ]
    },
    {
      "cell_type": "code",
      "source": [
        "mylist=\"for statement\" #設變數mylist=\"for statement\"\n",
        "for c in mylist:  #如果 c in mylist\n",
        "    print(c) #print列印出結果\n",
        "print(\"end list\") #print列印出結果"
      ],
      "metadata": {
        "colab": {
          "base_uri": "https://localhost:8080/"
        },
        "id": "Qun4Vc0Q9JsS",
        "outputId": "8ed5ec95-8632-45e9-b303-5f235656122e"
      },
      "execution_count": null,
      "outputs": [
        {
          "output_type": "stream",
          "name": "stdout",
          "text": [
            "f\n",
            "o\n",
            "r\n",
            " \n",
            "s\n",
            "t\n",
            "a\n",
            "t\n",
            "e\n",
            "m\n",
            "e\n",
            "n\n",
            "t\n",
            "end list\n"
          ]
        }
      ]
    },
    {
      "cell_type": "code",
      "source": [
        "for pl in [\"Java\", \"C#\", \"Python\"]: #給 pl in [\"Java\",\"C#\",\"Python\"]\n",
        "    print(pl) #print列印出結果"
      ],
      "metadata": {
        "colab": {
          "base_uri": "https://localhost:8080/"
        },
        "id": "CgnR0jxx9LBC",
        "outputId": "f5cf5895-676c-43b0-d501-c43226521687"
      },
      "execution_count": null,
      "outputs": [
        {
          "output_type": "stream",
          "name": "stdout",
          "text": [
            "Java\n",
            "C#\n",
            "Python\n"
          ]
        }
      ]
    },
    {
      "cell_type": "markdown",
      "source": [
        "雞兔同籠，若共有35個頭，94隻腳，請問有幾隻雞?幾隻兔?"
      ],
      "metadata": {
        "id": "rhvDNQ3H9RFk"
      }
    },
    {
      "cell_type": "code",
      "source": [
        "for chicken in range(0,36): #給chicken in range(0,36)\n",
        "    rabbit=35-chicken #設變數rabbit=35-chicken\n",
        "    if (2*chicken+4*rabbit) == 94: #如果\n",
        "        print(\"雞有\",chicken,\"隻,兔子有\",rabbit,\"隻\") #print列印出結果\n",
        "        break #休息跳出程式\n",
        "else: #反之\n",
        "    print(\"無解\") #print列印出結果"
      ],
      "metadata": {
        "colab": {
          "base_uri": "https://localhost:8080/"
        },
        "id": "_46htJLh9OZH",
        "outputId": "74853b73-4445-42dc-f5cd-8a785dceb74e"
      },
      "execution_count": null,
      "outputs": [
        {
          "output_type": "stream",
          "name": "stdout",
          "text": [
            "雞有 23 隻,兔子有 12 隻\n"
          ]
        }
      ]
    },
    {
      "cell_type": "markdown",
      "source": [
        "#while迴圈"
      ],
      "metadata": {
        "id": "vb_HFvyw9yKE"
      }
    },
    {
      "cell_type": "code",
      "source": [
        "sum=0 #設變數sum=0\n",
        "count=1 #設變數count=1\n",
        "while count <=10: #while儘管\n",
        "    sum += count\n",
        "    count += 1\n",
        "print(\"1+2+3+...+10=\",sum) #print列印出結果"
      ],
      "metadata": {
        "colab": {
          "base_uri": "https://localhost:8080/"
        },
        "id": "NUxENCXS91MA",
        "outputId": "37b0d725-8ab7-49b6-a588-8b929dae7b90"
      },
      "execution_count": null,
      "outputs": [
        {
          "output_type": "stream",
          "name": "stdout",
          "text": [
            "1+2+3+...+10= 55\n"
          ]
        }
      ]
    },
    {
      "cell_type": "markdown",
      "source": [
        "本金10000元，定存年利率0.6%，請問多久銀行存款會翻倍"
      ],
      "metadata": {
        "id": "CqzR_JnP-aOE"
      }
    },
    {
      "cell_type": "code",
      "source": [
        "x=10000 #設變數x=10000\n",
        "years=0 #設變數years=0\n",
        "while x <= 20000: #while儘管\n",
        "    x=x*1.006\n",
        "    years += 1\n",
        "print(str(years), \"年以後，存款加倍，為\", int(x),\"元\") #print列印出結果"
      ],
      "metadata": {
        "colab": {
          "base_uri": "https://localhost:8080/"
        },
        "id": "qFd1Xnp8-fmV",
        "outputId": "ebaf4d44-fe7b-41e1-8999-a67d24c8f847"
      },
      "execution_count": null,
      "outputs": [
        {
          "output_type": "stream",
          "name": "stdout",
          "text": [
            "116 年以後，存款加倍，為 20015 元\n"
          ]
        }
      ]
    },
    {
      "cell_type": "markdown",
      "source": [
        "帳號密碼判斷"
      ],
      "metadata": {
        "id": "JK8heiCF-2-R"
      }
    },
    {
      "cell_type": "code",
      "source": [
        "id=\"tony\" #設變數id=\"tony\"\n",
        "pwd=\"1234\" #設變數pwd=\"1234\"\n",
        "while True:  #while儘管\n",
        "    x=input(\"請輸入帳號：\") #print列印出結果\n",
        "    y=input(\"請輸入密碼：\") #print列印出結果\n",
        "    if (x==id and y==pwd): #如果\n",
        "        print(\"歡迎登入\") #print列印出結果\n",
        "        break #休息跳出程式\n",
        "    else: #反之\n",
        "        print(\"帳號或密碼輸入錯誤\") #print列印出結果"
      ],
      "metadata": {
        "colab": {
          "base_uri": "https://localhost:8080/"
        },
        "id": "U6lPlv69-56D",
        "outputId": "95f699ac-466f-40f5-bfa0-1ee4f6872a3c"
      },
      "execution_count": null,
      "outputs": [
        {
          "output_type": "stream",
          "name": "stdout",
          "text": [
            "請輸入帳號：tony\n",
            "請輸入密碼：1234\n",
            "歡迎登入\n"
          ]
        }
      ]
    },
    {
      "cell_type": "markdown",
      "source": [
        "亂數"
      ],
      "metadata": {
        "id": "k-0MqmGQ_Wd6"
      }
    },
    {
      "cell_type": "code",
      "source": [
        "import random #輸入一個rnadom亂數\n",
        "for i in range(0,10): #給 i = in range(0,10)\n",
        "    print(random.randint(1,9)) #print列印出結果"
      ],
      "metadata": {
        "colab": {
          "base_uri": "https://localhost:8080/"
        },
        "id": "NTzW4lHX_YE0",
        "outputId": "a791fe39-6a64-4d2b-b995-b2a4bd03586e"
      },
      "execution_count": null,
      "outputs": [
        {
          "output_type": "stream",
          "name": "stdout",
          "text": [
            "5\n",
            "7\n",
            "1\n",
            "6\n",
            "3\n",
            "3\n",
            "3\n",
            "4\n",
            "2\n",
            "6\n"
          ]
        }
      ]
    },
    {
      "cell_type": "markdown",
      "source": [
        "猜數字"
      ],
      "metadata": {
        "id": "FH5LXEkx_eN2"
      }
    },
    {
      "cell_type": "code",
      "source": [
        "import random #輸入一個rnadom亂數\n",
        "number=random.randint(1,20) \n",
        "while True: #while true做下面\n",
        "    guess=int(input(\"請輸入1~20之間的數字-->\")) #input列印出結果\n",
        "    if guess == number: #如果guess == number做下面\n",
        "        print(\"你猜對了，數字是\", number) #print列印出結果\n",
        "        break #休息跳出程式\n",
        "    else: #反之做下面\n",
        "        print(\"你猜錯了\") #print列印出結果"
      ],
      "metadata": {
        "colab": {
          "base_uri": "https://localhost:8080/"
        },
        "id": "miBYkJTj_f9x",
        "outputId": "34ab9b35-3e19-4983-feed-0332b35190e6"
      },
      "execution_count": null,
      "outputs": [
        {
          "output_type": "stream",
          "name": "stdout",
          "text": [
            "請輸入1~20之間的數字-->15\n",
            "你猜錯了\n",
            "請輸入1~20之間的數字-->10\n",
            "你猜錯了\n",
            "請輸入1~20之間的數字-->20\n",
            "你猜錯了\n",
            "請輸入1~20之間的數字-->1\n",
            "你猜錯了\n",
            "請輸入1~20之間的數字-->2\n",
            "你猜錯了\n",
            "請輸入1~20之間的數字-->3\n",
            "你猜錯了\n",
            "請輸入1~20之間的數字-->4\n",
            "你猜錯了\n",
            "請輸入1~20之間的數字-->5\n",
            "你猜錯了\n",
            "請輸入1~20之間的數字-->6\n",
            "你猜錯了\n",
            "請輸入1~20之間的數字-->7\n",
            "你猜對了，數字是 7\n"
          ]
        }
      ]
    }
  ]
}